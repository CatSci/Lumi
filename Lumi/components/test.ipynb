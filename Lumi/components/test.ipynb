{
 "cells": [
  {
   "cell_type": "code",
   "execution_count": 2,
   "metadata": {},
   "outputs": [],
   "source": [
    "import pandas as pd\n",
    "import os\n",
    "from utils.common import read_yaml_file"
   ]
  },
  {
   "cell_type": "code",
   "execution_count": 3,
   "metadata": {},
   "outputs": [],
   "source": [
    "f = \"../../config/schema.yaml\""
   ]
  },
  {
   "cell_type": "code",
   "execution_count": 4,
   "metadata": {},
   "outputs": [
    {
     "data": {
      "text/plain": [
       "{'columns': [{'eid': 'str'},\n",
       "  {'Name': 'str'},\n",
       "  {'Project Code': 'str'},\n",
       "  {'Project Description': 'str'},\n",
       "  {'Description': 'str'},\n",
       "  {'Function': 'str'},\n",
       "  {'Site': 'str'},\n",
       "  {'state': 'str'},\n",
       "  {'firstName': 'str'},\n",
       "  {'lastName': 'str'},\n",
       "  {'email': 'str'}]}"
      ]
     },
     "execution_count": 4,
     "metadata": {},
     "output_type": "execute_result"
    }
   ],
   "source": [
    "schema_config = read_yaml_file(f)\n",
    "schema_config"
   ]
  },
  {
   "cell_type": "code",
   "execution_count": 5,
   "metadata": {},
   "outputs": [
    {
     "name": "stdout",
     "output_type": "stream",
     "text": [
      "4pmOtR0yZx5UNbmIzpTQNZp3kWPnvoeA3vCg7FNq3rXXkDyap3kMs/+DqjOllexdxez5KQ==\n"
     ]
    }
   ],
   "source": [
    "print(os.environ.get(\"API_KEY\"))"
   ]
  },
  {
   "cell_type": "code",
   "execution_count": null,
   "metadata": {},
   "outputs": [],
   "source": [
    "f ='../../.env'"
   ]
  }
 ],
 "metadata": {
  "kernelspec": {
   "display_name": "Python 3",
   "language": "python",
   "name": "python3"
  },
  "language_info": {
   "codemirror_mode": {
    "name": "ipython",
    "version": 3
   },
   "file_extension": ".py",
   "mimetype": "text/x-python",
   "name": "python",
   "nbconvert_exporter": "python",
   "pygments_lexer": "ipython3",
   "version": "3.8.18"
  }
 },
 "nbformat": 4,
 "nbformat_minor": 2
}
